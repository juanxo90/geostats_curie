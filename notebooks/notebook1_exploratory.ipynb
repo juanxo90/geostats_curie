{
  "nbformat": 4,
  "nbformat_minor": 0,
  "metadata": {
    "colab": {
      "provenance": [],
      "authorship_tag": "ABX9TyNgf6Wh/zlcZHD5CQdXKVcz",
      "include_colab_link": true
    },
    "kernelspec": {
      "name": "python3",
      "display_name": "Python 3"
    },
    "language_info": {
      "name": "python"
    }
  },
  "cells": [
    {
      "cell_type": "markdown",
      "metadata": {
        "id": "view-in-github",
        "colab_type": "text"
      },
      "source": [
        "<a href=\"https://colab.research.google.com/github/juanxo90/geostats_curie/blob/main/notebooks/notebook1_exploratory.ipynb\" target=\"_parent\"><img src=\"https://colab.research.google.com/assets/colab-badge.svg\" alt=\"Open In Colab\"/></a>"
      ]
    },
    {
      "cell_type": "markdown",
      "source": [
        "## Basic exploratory data analysis. \n",
        "\n",
        "During this steep we will do the exploratory data analisys for the Deth to the bottom of magnetic source, followin the same steeps mentioned in the paper."
      ],
      "metadata": {
        "id": "BWrdtJsYYhP5"
      }
    },
    {
      "cell_type": "code",
      "execution_count": 1,
      "metadata": {
        "id": "P0sbcIGMXTqt"
      },
      "outputs": [],
      "source": [
        "import pandas as pd"
      ]
    },
    {
      "cell_type": "code",
      "source": [
        "data = pd.read_csv('https://raw.githubusercontent.com/juanxo90/geostats_curie/main/data/data.dat',\n",
        "            skiprows = 12, header=None,sep='\\t')"
      ],
      "metadata": {
        "id": "LtJ2zT7icfv_"
      },
      "execution_count": 10,
      "outputs": []
    },
    {
      "cell_type": "code",
      "source": [
        "data[0] = data.loc[:, 0] * 1000\n",
        "data[1] = data.loc[:, 1] * 1000"
      ],
      "metadata": {
        "id": "L-LgqPvQf0ux"
      },
      "execution_count": 16,
      "outputs": []
    }
  ]
}